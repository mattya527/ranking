{
 "cells": [
  {
   "cell_type": "code",
   "execution_count": 3,
   "metadata": {},
   "outputs": [],
   "source": [
    "import os\n",
    "import csv\n",
    "import numpy as np\n",
    "import pandas as pd\n",
    "import json"
   ]
  },
  {
   "cell_type": "code",
   "execution_count": 4,
   "metadata": {},
   "outputs": [],
   "source": [
    "# レースidごとにcsvを取得して返す\n",
    "def getHourseInfoByRaceId(race_id,year,month):\n",
    "    with open(\"../csv/hourse/{}/{}/{}.csv\".format(year,month,race_id), 'r',encoding=\"utf8\") as f:\n",
    "        csv_reader = csv.reader(f)\n",
    "        response = []\n",
    "        for i,row in enumerate(csv_reader):\n",
    "            if i == 0: continue\n",
    "            response.append(row)\n",
    "        return response\n",
    "    "
   ]
  },
  {
   "cell_type": "code",
   "execution_count": 5,
   "metadata": {},
   "outputs": [],
   "source": [
    "# レースidごとに馬の情報を足していく\n",
    "def hourseInfoByRaceId(race_data_list,year,month):\n",
    "    print(race_data_list)\n",
    "    hourse_csv = f\"../csv/hourse/{year}/{month}/{race_data_list[0]}.csv\"\n",
    "    race_result = pd.read_csv(hourse_csv).values.tolist()\n",
    "    print(race_result)\n",
    "    return race_result"
   ]
  },
  {
   "cell_type": "code",
   "execution_count": 6,
   "metadata": {},
   "outputs": [],
   "source": [
    "# 馬の配列（オブジェクトを作成)\n",
    "def createHourseObject(race_data_list,race_result):\n",
    "    hourse_dict = {}\n",
    "    for hourse in race_result:\n",
    "        print(hourse)\n",
    "        hourse_dict[hourse[4]] = {}\n",
    "        hourse_dict[hourse[4]][\"hourse_sex\"] = hourse[5]\n",
    "        hourse_dict[hourse[4]][\"races\"] = []\n",
    "        hourse_dict[hourse[4]][\"races\"].append({\n",
    "            \"race_id\":race_data_list[0],\n",
    "            \"race_name\":race_data_list[1],\n",
    "            \"race_date\":race_data_list[2],\n",
    "            \"race_place\":race_data_list[3],\n",
    "            \"race_round\":race_data_list[4],\n",
    "            \"race_course\":race_data_list[5],\n",
    "            \"race_direction\":race_data_list[6],\n",
    "            \"race_distance\":race_data_list[7],\n",
    "            \"race_weather\":race_data_list[8],\n",
    "            \"race_course_status\":race_data_list[9],\n",
    "            \"race_start_time\":race_data_list[10],\n",
    "            \"order_of_arrival\":hourse[1],\n",
    "            \"bracket_number\":hourse[2],\n",
    "            \"hourse_number\":hourse[3],\n",
    "            \"hourse_age\":hourse[6],\n",
    "            \"weight\":hourse[7],\n",
    "            \"jockey_name\":hourse[8],\n",
    "            \"time\":hourse[9],\n",
    "            \"arrival\":hourse[10],\n",
    "            \"currency_ranking\":hourse[11],\n",
    "            \"last_3furlong\":hourse[12],\n",
    "            \"odds\":hourse[13],\n",
    "            \"poppularity_ranking\":hourse[14],\n",
    "            \"hourse_weight\":hourse[15],\n",
    "            \"subject_weight\":hourse[16],\n",
    "            \"trainer\":hourse[17],\n",
    "            \"hourse_owner\":hourse[18]\n",
    "        })\n",
    "    print(hourse_dict)\n",
    "    return hourse_dict"
   ]
  },
  {
   "cell_type": "code",
   "execution_count": 7,
   "metadata": {},
   "outputs": [
    {
     "name": "stdout",
     "output_type": "stream",
     "text": [
      "[202205010101, '3歳未勝利', '2022年1月29日', '東京', 1, 'ダート', '左', '1400', '曇', '良', '10:05']\n",
      "[[202205010101, 1, 1, 2, 'モネ', '牝', 3, 54, '津村明秀', '1:26.3', nan, '1-1', 37.2, 7.9, 4, 458, 2, '[東]牧光二', 'ニッシンホールディングス'], [202205010101, 2, 2, 4, 'ランコントル', '牝', 3, 54, 'Ｍ．デム', '1:26.5', '1', '4-4', 37.0, 4.2, 1, 448, 6, '[東]矢野英一', '井山登'], [202205010101, 3, 2, 3, 'ジューンポンポン', '牝', 3, 54, '田辺裕信', '1:26.5', 'クビ', '3-3', 37.1, 5.0, 3, 476, 0, '[東]和田勇介', '吉川潤'], [202205010101, 4, 1, 1, 'エレガントミッシー', '牝', 3, 54, '宮崎北斗', '1:27.0', '3', '6-6', 37.3, 11.3, 6, 422, -4, '[東]佐藤吉勝', '伊東純一'], [202205010101, 5, 4, 7, 'ピカリエ', '牝', 3, 54, '伊藤工真', '1:27.1', '3/4', '15-14', 36.6, 4.6, 2, 490, 8, '[東]金成貴史', 'リトルブルーファーム'], [202205010101, 6, 4, 8, 'リーディングラン', '牝', 3, 54, '吉田豊', '1:27.2', '3/4', '11-8', 37.2, 148.9, 13, 480, 0, '[東]高橋文雅', '岡村善行'], [202205010101, 7, 7, 14, 'ムーンワード', '牝', 3, 54, '武豊', '1:27.4', '1', '2-2', 38.2, 14.3, 8, 490, -2, '[東]杉浦宏昭', '伊東純一'], [202205010101, 8, 6, 12, 'マテンロウボイス', '牝', 3, 53, '亀田温心', '1:27.7', '1.3/4', '8-9', 37.6, 8.8, 5, 468, -12, '[東]久保田貴', '寺田千代乃'], [202205010101, 9, 3, 5, 'アポロリップ', '牝', 3, 52, '永野猛蔵', '1:27.7', 'アタマ', '8-9', 37.6, 18.2, 9, 516, 2, '[東]岩戸孝樹', 'アポロサラブレッドクラブ'], [202205010101, 10, 8, 16, 'ルージュヴィーヴル', '牝', 3, 54, '戸崎圭太', '1:27.8', '3/4', '11-11', 37.5, 13.4, 7, 470, -2, '[東]田中博康', '東京ホースレーシング'], [202205010101, 11, 5, 9, 'キタノステート', '牝', 3, 54, '丸田恭介', '1:28.0', '1', '13-11', 37.7, 100.2, 12, 416, -4, '[東]石栗龍彦', '北所直人'], [202205010101, 12, 5, 10, 'アイレスアン', '牝', 3, 54, '石川裕紀', '1:28.7', '4', '6-7', 38.8, 60.5, 11, 472, 0, '[東]加藤征弘', 'ＴＵＲＦレーシング'], [202205010101, 13, 3, 6, 'グレースミューズ', '牝', 3, 51, '小林脩斗', '1:28.9', '1.1/4', '10-11', 38.6, 562.2, 15, 430, -2, '[東]清水英克', '田頭勇貴'], [202205010101, 14, 8, 15, 'チェリー', '牝', 3, 54, '菊沢一樹', '1:29.0', '1/2', '14-14', 38.5, 325.6, 14, 450, -4, '[東]佐藤吉勝', '平本敏夫'], [202205010101, 15, 6, 11, 'クリノリュウグウ', '牝', 3, 52, '山田敬士', '1:29.0', 'アタマ', '15-16', 38.4, 582.8, 16, 432, -4, '[東]蛯名利弘', '栗本博晴'], [202205010101, 16, 7, 13, 'ハロースクロール', '牝', 3, 51, '横山琉人', '1:29.1', 'クビ', '4-5', 39.5, 27.8, 10, 428, 12, '[東]手塚貴久', '下河辺牧場']]\n",
      "[202205010101, 1, 1, 2, 'モネ', '牝', 3, 54, '津村明秀', '1:26.3', nan, '1-1', 37.2, 7.9, 4, 458, 2, '[東]牧光二', 'ニッシンホールディングス']\n",
      "[202205010101, 2, 2, 4, 'ランコントル', '牝', 3, 54, 'Ｍ．デム', '1:26.5', '1', '4-4', 37.0, 4.2, 1, 448, 6, '[東]矢野英一', '井山登']\n",
      "[202205010101, 3, 2, 3, 'ジューンポンポン', '牝', 3, 54, '田辺裕信', '1:26.5', 'クビ', '3-3', 37.1, 5.0, 3, 476, 0, '[東]和田勇介', '吉川潤']\n",
      "[202205010101, 4, 1, 1, 'エレガントミッシー', '牝', 3, 54, '宮崎北斗', '1:27.0', '3', '6-6', 37.3, 11.3, 6, 422, -4, '[東]佐藤吉勝', '伊東純一']\n",
      "[202205010101, 5, 4, 7, 'ピカリエ', '牝', 3, 54, '伊藤工真', '1:27.1', '3/4', '15-14', 36.6, 4.6, 2, 490, 8, '[東]金成貴史', 'リトルブルーファーム']\n",
      "[202205010101, 6, 4, 8, 'リーディングラン', '牝', 3, 54, '吉田豊', '1:27.2', '3/4', '11-8', 37.2, 148.9, 13, 480, 0, '[東]高橋文雅', '岡村善行']\n",
      "[202205010101, 7, 7, 14, 'ムーンワード', '牝', 3, 54, '武豊', '1:27.4', '1', '2-2', 38.2, 14.3, 8, 490, -2, '[東]杉浦宏昭', '伊東純一']\n",
      "[202205010101, 8, 6, 12, 'マテンロウボイス', '牝', 3, 53, '亀田温心', '1:27.7', '1.3/4', '8-9', 37.6, 8.8, 5, 468, -12, '[東]久保田貴', '寺田千代乃']\n",
      "[202205010101, 9, 3, 5, 'アポロリップ', '牝', 3, 52, '永野猛蔵', '1:27.7', 'アタマ', '8-9', 37.6, 18.2, 9, 516, 2, '[東]岩戸孝樹', 'アポロサラブレッドクラブ']\n",
      "[202205010101, 10, 8, 16, 'ルージュヴィーヴル', '牝', 3, 54, '戸崎圭太', '1:27.8', '3/4', '11-11', 37.5, 13.4, 7, 470, -2, '[東]田中博康', '東京ホースレーシング']\n",
      "[202205010101, 11, 5, 9, 'キタノステート', '牝', 3, 54, '丸田恭介', '1:28.0', '1', '13-11', 37.7, 100.2, 12, 416, -4, '[東]石栗龍彦', '北所直人']\n",
      "[202205010101, 12, 5, 10, 'アイレスアン', '牝', 3, 54, '石川裕紀', '1:28.7', '4', '6-7', 38.8, 60.5, 11, 472, 0, '[東]加藤征弘', 'ＴＵＲＦレーシング']\n",
      "[202205010101, 13, 3, 6, 'グレースミューズ', '牝', 3, 51, '小林脩斗', '1:28.9', '1.1/4', '10-11', 38.6, 562.2, 15, 430, -2, '[東]清水英克', '田頭勇貴']\n",
      "[202205010101, 14, 8, 15, 'チェリー', '牝', 3, 54, '菊沢一樹', '1:29.0', '1/2', '14-14', 38.5, 325.6, 14, 450, -4, '[東]佐藤吉勝', '平本敏夫']\n",
      "[202205010101, 15, 6, 11, 'クリノリュウグウ', '牝', 3, 52, '山田敬士', '1:29.0', 'アタマ', '15-16', 38.4, 582.8, 16, 432, -4, '[東]蛯名利弘', '栗本博晴']\n",
      "[202205010101, 16, 7, 13, 'ハロースクロール', '牝', 3, 51, '横山琉人', '1:29.1', 'クビ', '4-5', 39.5, 27.8, 10, 428, 12, '[東]手塚貴久', '下河辺牧場']\n",
      "{'モネ': {'hourse_sex': '牝', 'races': [{'race_id': 202205010101, 'race_name': '3歳未勝利', 'race_date': '2022年1月29日', 'race_place': '東京', 'race_round': 1, 'race_course': 'ダート', 'race_direction': '左', 'race_distance': '1400', 'race_weather': '曇', 'race_course_status': '良', 'race_start_time': '10:05', 'order_of_arrival': 1, 'bracket_number': 1, 'hourse_number': 2, 'hourse_age': 3, 'weight': 54, 'jockey_name': '津村明秀', 'time': '1:26.3', 'arrival': nan, 'currency_ranking': '1-1', 'last_3furlong': 37.2, 'odds': 7.9, 'poppularity_ranking': 4, 'hourse_weight': 458, 'subject_weight': 2, 'trainer': '[東]牧光二', 'hourse_owner': 'ニッシンホールディングス'}]}, 'ランコントル': {'hourse_sex': '牝', 'races': [{'race_id': 202205010101, 'race_name': '3歳未勝利', 'race_date': '2022年1月29日', 'race_place': '東京', 'race_round': 1, 'race_course': 'ダート', 'race_direction': '左', 'race_distance': '1400', 'race_weather': '曇', 'race_course_status': '良', 'race_start_time': '10:05', 'order_of_arrival': 2, 'bracket_number': 2, 'hourse_number': 4, 'hourse_age': 3, 'weight': 54, 'jockey_name': 'Ｍ．デム', 'time': '1:26.5', 'arrival': '1', 'currency_ranking': '4-4', 'last_3furlong': 37.0, 'odds': 4.2, 'poppularity_ranking': 1, 'hourse_weight': 448, 'subject_weight': 6, 'trainer': '[東]矢野英一', 'hourse_owner': '井山登'}]}, 'ジューンポンポン': {'hourse_sex': '牝', 'races': [{'race_id': 202205010101, 'race_name': '3歳未勝利', 'race_date': '2022年1月29日', 'race_place': '東京', 'race_round': 1, 'race_course': 'ダート', 'race_direction': '左', 'race_distance': '1400', 'race_weather': '曇', 'race_course_status': '良', 'race_start_time': '10:05', 'order_of_arrival': 3, 'bracket_number': 2, 'hourse_number': 3, 'hourse_age': 3, 'weight': 54, 'jockey_name': '田辺裕信', 'time': '1:26.5', 'arrival': 'クビ', 'currency_ranking': '3-3', 'last_3furlong': 37.1, 'odds': 5.0, 'poppularity_ranking': 3, 'hourse_weight': 476, 'subject_weight': 0, 'trainer': '[東]和田勇介', 'hourse_owner': '吉川潤'}]}, 'エレガントミッシー': {'hourse_sex': '牝', 'races': [{'race_id': 202205010101, 'race_name': '3歳未勝利', 'race_date': '2022年1月29日', 'race_place': '東京', 'race_round': 1, 'race_course': 'ダート', 'race_direction': '左', 'race_distance': '1400', 'race_weather': '曇', 'race_course_status': '良', 'race_start_time': '10:05', 'order_of_arrival': 4, 'bracket_number': 1, 'hourse_number': 1, 'hourse_age': 3, 'weight': 54, 'jockey_name': '宮崎北斗', 'time': '1:27.0', 'arrival': '3', 'currency_ranking': '6-6', 'last_3furlong': 37.3, 'odds': 11.3, 'poppularity_ranking': 6, 'hourse_weight': 422, 'subject_weight': -4, 'trainer': '[東]佐藤吉勝', 'hourse_owner': '伊東純一'}]}, 'ピカリエ': {'hourse_sex': '牝', 'races': [{'race_id': 202205010101, 'race_name': '3歳未勝利', 'race_date': '2022年1月29日', 'race_place': '東京', 'race_round': 1, 'race_course': 'ダート', 'race_direction': '左', 'race_distance': '1400', 'race_weather': '曇', 'race_course_status': '良', 'race_start_time': '10:05', 'order_of_arrival': 5, 'bracket_number': 4, 'hourse_number': 7, 'hourse_age': 3, 'weight': 54, 'jockey_name': '伊藤工真', 'time': '1:27.1', 'arrival': '3/4', 'currency_ranking': '15-14', 'last_3furlong': 36.6, 'odds': 4.6, 'poppularity_ranking': 2, 'hourse_weight': 490, 'subject_weight': 8, 'trainer': '[東]金成貴史', 'hourse_owner': 'リトルブルーファーム'}]}, 'リーディングラン': {'hourse_sex': '牝', 'races': [{'race_id': 202205010101, 'race_name': '3歳未勝利', 'race_date': '2022年1月29日', 'race_place': '東京', 'race_round': 1, 'race_course': 'ダート', 'race_direction': '左', 'race_distance': '1400', 'race_weather': '曇', 'race_course_status': '良', 'race_start_time': '10:05', 'order_of_arrival': 6, 'bracket_number': 4, 'hourse_number': 8, 'hourse_age': 3, 'weight': 54, 'jockey_name': '吉田豊', 'time': '1:27.2', 'arrival': '3/4', 'currency_ranking': '11-8', 'last_3furlong': 37.2, 'odds': 148.9, 'poppularity_ranking': 13, 'hourse_weight': 480, 'subject_weight': 0, 'trainer': '[東]高橋文雅', 'hourse_owner': '岡村善行'}]}, 'ムーンワード': {'hourse_sex': '牝', 'races': [{'race_id': 202205010101, 'race_name': '3歳未勝利', 'race_date': '2022年1月29日', 'race_place': '東京', 'race_round': 1, 'race_course': 'ダート', 'race_direction': '左', 'race_distance': '1400', 'race_weather': '曇', 'race_course_status': '良', 'race_start_time': '10:05', 'order_of_arrival': 7, 'bracket_number': 7, 'hourse_number': 14, 'hourse_age': 3, 'weight': 54, 'jockey_name': '武豊', 'time': '1:27.4', 'arrival': '1', 'currency_ranking': '2-2', 'last_3furlong': 38.2, 'odds': 14.3, 'poppularity_ranking': 8, 'hourse_weight': 490, 'subject_weight': -2, 'trainer': '[東]杉浦宏昭', 'hourse_owner': '伊東純一'}]}, 'マテンロウボイス': {'hourse_sex': '牝', 'races': [{'race_id': 202205010101, 'race_name': '3歳未勝利', 'race_date': '2022年1月29日', 'race_place': '東京', 'race_round': 1, 'race_course': 'ダート', 'race_direction': '左', 'race_distance': '1400', 'race_weather': '曇', 'race_course_status': '良', 'race_start_time': '10:05', 'order_of_arrival': 8, 'bracket_number': 6, 'hourse_number': 12, 'hourse_age': 3, 'weight': 53, 'jockey_name': '亀田温心', 'time': '1:27.7', 'arrival': '1.3/4', 'currency_ranking': '8-9', 'last_3furlong': 37.6, 'odds': 8.8, 'poppularity_ranking': 5, 'hourse_weight': 468, 'subject_weight': -12, 'trainer': '[東]久保田貴', 'hourse_owner': '寺田千代乃'}]}, 'アポロリップ': {'hourse_sex': '牝', 'races': [{'race_id': 202205010101, 'race_name': '3歳未勝利', 'race_date': '2022年1月29日', 'race_place': '東京', 'race_round': 1, 'race_course': 'ダート', 'race_direction': '左', 'race_distance': '1400', 'race_weather': '曇', 'race_course_status': '良', 'race_start_time': '10:05', 'order_of_arrival': 9, 'bracket_number': 3, 'hourse_number': 5, 'hourse_age': 3, 'weight': 52, 'jockey_name': '永野猛蔵', 'time': '1:27.7', 'arrival': 'アタマ', 'currency_ranking': '8-9', 'last_3furlong': 37.6, 'odds': 18.2, 'poppularity_ranking': 9, 'hourse_weight': 516, 'subject_weight': 2, 'trainer': '[東]岩戸孝樹', 'hourse_owner': 'アポロサラブレッドクラブ'}]}, 'ルージュヴィーヴル': {'hourse_sex': '牝', 'races': [{'race_id': 202205010101, 'race_name': '3歳未勝利', 'race_date': '2022年1月29日', 'race_place': '東京', 'race_round': 1, 'race_course': 'ダート', 'race_direction': '左', 'race_distance': '1400', 'race_weather': '曇', 'race_course_status': '良', 'race_start_time': '10:05', 'order_of_arrival': 10, 'bracket_number': 8, 'hourse_number': 16, 'hourse_age': 3, 'weight': 54, 'jockey_name': '戸崎圭太', 'time': '1:27.8', 'arrival': '3/4', 'currency_ranking': '11-11', 'last_3furlong': 37.5, 'odds': 13.4, 'poppularity_ranking': 7, 'hourse_weight': 470, 'subject_weight': -2, 'trainer': '[東]田中博康', 'hourse_owner': '東京ホースレーシング'}]}, 'キタノステート': {'hourse_sex': '牝', 'races': [{'race_id': 202205010101, 'race_name': '3歳未勝利', 'race_date': '2022年1月29日', 'race_place': '東京', 'race_round': 1, 'race_course': 'ダート', 'race_direction': '左', 'race_distance': '1400', 'race_weather': '曇', 'race_course_status': '良', 'race_start_time': '10:05', 'order_of_arrival': 11, 'bracket_number': 5, 'hourse_number': 9, 'hourse_age': 3, 'weight': 54, 'jockey_name': '丸田恭介', 'time': '1:28.0', 'arrival': '1', 'currency_ranking': '13-11', 'last_3furlong': 37.7, 'odds': 100.2, 'poppularity_ranking': 12, 'hourse_weight': 416, 'subject_weight': -4, 'trainer': '[東]石栗龍彦', 'hourse_owner': '北所直人'}]}, 'アイレスアン': {'hourse_sex': '牝', 'races': [{'race_id': 202205010101, 'race_name': '3歳未勝利', 'race_date': '2022年1月29日', 'race_place': '東京', 'race_round': 1, 'race_course': 'ダート', 'race_direction': '左', 'race_distance': '1400', 'race_weather': '曇', 'race_course_status': '良', 'race_start_time': '10:05', 'order_of_arrival': 12, 'bracket_number': 5, 'hourse_number': 10, 'hourse_age': 3, 'weight': 54, 'jockey_name': '石川裕紀', 'time': '1:28.7', 'arrival': '4', 'currency_ranking': '6-7', 'last_3furlong': 38.8, 'odds': 60.5, 'poppularity_ranking': 11, 'hourse_weight': 472, 'subject_weight': 0, 'trainer': '[東]加藤征弘', 'hourse_owner': 'ＴＵＲＦレーシング'}]}, 'グレースミューズ': {'hourse_sex': '牝', 'races': [{'race_id': 202205010101, 'race_name': '3歳未勝利', 'race_date': '2022年1月29日', 'race_place': '東京', 'race_round': 1, 'race_course': 'ダート', 'race_direction': '左', 'race_distance': '1400', 'race_weather': '曇', 'race_course_status': '良', 'race_start_time': '10:05', 'order_of_arrival': 13, 'bracket_number': 3, 'hourse_number': 6, 'hourse_age': 3, 'weight': 51, 'jockey_name': '小林脩斗', 'time': '1:28.9', 'arrival': '1.1/4', 'currency_ranking': '10-11', 'last_3furlong': 38.6, 'odds': 562.2, 'poppularity_ranking': 15, 'hourse_weight': 430, 'subject_weight': -2, 'trainer': '[東]清水英克', 'hourse_owner': '田頭勇貴'}]}, 'チェリー': {'hourse_sex': '牝', 'races': [{'race_id': 202205010101, 'race_name': '3歳未勝利', 'race_date': '2022年1月29日', 'race_place': '東京', 'race_round': 1, 'race_course': 'ダート', 'race_direction': '左', 'race_distance': '1400', 'race_weather': '曇', 'race_course_status': '良', 'race_start_time': '10:05', 'order_of_arrival': 14, 'bracket_number': 8, 'hourse_number': 15, 'hourse_age': 3, 'weight': 54, 'jockey_name': '菊沢一樹', 'time': '1:29.0', 'arrival': '1/2', 'currency_ranking': '14-14', 'last_3furlong': 38.5, 'odds': 325.6, 'poppularity_ranking': 14, 'hourse_weight': 450, 'subject_weight': -4, 'trainer': '[東]佐藤吉勝', 'hourse_owner': '平本敏夫'}]}, 'クリノリュウグウ': {'hourse_sex': '牝', 'races': [{'race_id': 202205010101, 'race_name': '3歳未勝利', 'race_date': '2022年1月29日', 'race_place': '東京', 'race_round': 1, 'race_course': 'ダート', 'race_direction': '左', 'race_distance': '1400', 'race_weather': '曇', 'race_course_status': '良', 'race_start_time': '10:05', 'order_of_arrival': 15, 'bracket_number': 6, 'hourse_number': 11, 'hourse_age': 3, 'weight': 52, 'jockey_name': '山田敬士', 'time': '1:29.0', 'arrival': 'アタマ', 'currency_ranking': '15-16', 'last_3furlong': 38.4, 'odds': 582.8, 'poppularity_ranking': 16, 'hourse_weight': 432, 'subject_weight': -4, 'trainer': '[東]蛯名利弘', 'hourse_owner': '栗本博晴'}]}, 'ハロースクロール': {'hourse_sex': '牝', 'races': [{'race_id': 202205010101, 'race_name': '3歳未勝利', 'race_date': '2022年1月29日', 'race_place': '東京', 'race_round': 1, 'race_course': 'ダート', 'race_direction': '左', 'race_distance': '1400', 'race_weather': '曇', 'race_course_status': '良', 'race_start_time': '10:05', 'order_of_arrival': 16, 'bracket_number': 7, 'hourse_number': 13, 'hourse_age': 3, 'weight': 51, 'jockey_name': '横山琉人', 'time': '1:29.1', 'arrival': 'クビ', 'currency_ranking': '4-5', 'last_3furlong': 39.5, 'odds': 27.8, 'poppularity_ranking': 10, 'hourse_weight': 428, 'subject_weight': 12, 'trainer': '[東]手塚貴久', 'hourse_owner': '下河辺牧場'}]}}\n"
     ]
    }
   ],
   "source": [
    "# メイン関数\n",
    "year = 2022\n",
    "month = 1\n",
    "\n",
    "race_csv = f\"../csv/race/{year}/{year}-{month}.csv\"\n",
    "\n",
    "# 1ヶ月のレースの一覧を配列に\n",
    "races = pd.read_csv(race_csv).values.tolist()\n",
    "# 1列ごとに馬のデータを追加処理\n",
    "for i in races:\n",
    "    # レースごとに順位を取得\n",
    "    race_result = hourseInfoByRaceId(i,year,month)\n",
    "    # 馬の名前ごとにオブジェクトを作成\n",
    "    hourse_list = createHourseObject(i,race_result)\n",
    "    break"
   ]
  }
 ],
 "metadata": {
  "kernelspec": {
   "display_name": "venv",
   "language": "python",
   "name": "python3"
  },
  "language_info": {
   "codemirror_mode": {
    "name": "ipython",
    "version": 3
   },
   "file_extension": ".py",
   "mimetype": "text/x-python",
   "name": "python",
   "nbconvert_exporter": "python",
   "pygments_lexer": "ipython3",
   "version": "3.9.12"
  },
  "orig_nbformat": 4
 },
 "nbformat": 4,
 "nbformat_minor": 2
}
