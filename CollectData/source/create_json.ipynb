{
 "cells": [
  {
   "cell_type": "code",
   "execution_count": 1,
   "metadata": {},
   "outputs": [],
   "source": [
    "import os\n",
    "import csv\n",
    "import numpy as np\n",
    "import json"
   ]
  },
  {
   "cell_type": "code",
   "execution_count": 2,
   "metadata": {},
   "outputs": [],
   "source": [
    "# レースidごとにcsvを取得して返す\n",
    "def getHourseInfoByRaceId(race_id,year,month):\n",
    "    with open(\"../csv/hourse/{}/{}/{}.csv\".format(year,month,race_id), 'r',encoding=\"utf8\") as f:\n",
    "        csv_reader = csv.reader(f)\n",
    "        response = []\n",
    "        for i,row in enumerate(csv_reader):\n",
    "            if i == 0: continue\n",
    "            response.append(row)\n",
    "        return response\n",
    "    "
   ]
  },
  {
   "cell_type": "code",
   "execution_count": 15,
   "metadata": {},
   "outputs": [],
   "source": [
    "# 各馬の情報をJSONに\n",
    "def createHourseJson(race_info,hourse_info):\n",
    "    hourse_json = json.loads(\n",
    "        hourse_info\n",
    "    return hourse_json"
   ]
  },
  {
   "cell_type": "code",
   "execution_count": 14,
   "metadata": {},
   "outputs": [],
   "source": [
    "# メイン関数\n",
    "def main():\n",
    "    year = 2022\n",
    "    month = 1\n",
    "\n",
    "    race_path = \"../csv/race/{}/\".format(year)\n",
    "\n",
    "    if os.path.isdir(race_path):\n",
    "        file_list = os.listdir(race_path)\n",
    "        print(file_list)\n",
    "        for file in file_list:\n",
    "            with open(race_path+file, \"r\",encoding=\"utf8\") as f:\n",
    "                csv_reader = csv.reader(f)\n",
    "                for i,race_info in enumerate(csv_reader):\n",
    "                    print(\"race_info:\",race_info)\n",
    "                    if i == 0: continue\n",
    "                    hourse_info = np.array(getHourseInfoByRaceId(race_info[0],year,month))\n",
    "                    print(\"hourse_info\",hourse_info)\n",
    "                    # createHourseJson(race_info,hourse_info)\n",
    "                    if i == 1: break"
   ]
  },
  {
   "cell_type": "code",
   "execution_count": 15,
   "metadata": {},
   "outputs": [
    {
     "name": "stdout",
     "output_type": "stream",
     "text": [
      "['2022-1.csv', '2022-10.csv', '2022-11.csv', '2022-12.csv', '2022-2.csv', '2022-3.csv', '2022-4.csv', '2022-5.csv', '2022-6.csv', '2022-7.csv', '2022-8.csv', '2022-9.csv']\n",
      "race_info: ['race_id', 'race_name', 'race_date', 'race_place', 'race_round', 'race_course', 'race_direction', 'race_distance', 'race_weather', 'race_course_status', 'race_start_time']\n",
      "race_info: ['202205010101', '3歳未勝利', '2022年1月29日', '東京', '1 ', 'ダート', '左', '1400', '曇', '良', '10:05']\n",
      "hourse_info [['202205010101' '1' '1' '2' 'モネ' '牝' '3' '54' '津村明秀' '1:26.3' '' '1-1'\n",
      "  '37.2' '7.9' '4' '458' '+2' '[東]牧光二' 'ニッシンホールディングス']\n",
      " ['202205010101' '2' '2' '4' 'ランコントル' '牝' '3' '54' 'Ｍ．デム' '1:26.5' '1'\n",
      "  '4-4' '37.0' '4.2' '1' '448' '+6' '[東]矢野英一' '井山登']\n",
      " ['202205010101' '3' '2' '3' 'ジューンポンポン' '牝' '3' '54' '田辺裕信' '1:26.5' 'クビ'\n",
      "  '3-3' '37.1' '5.0' '3' '476' '0' '[東]和田勇介' '吉川潤']\n",
      " ['202205010101' '4' '1' '1' 'エレガントミッシー' '牝' '3' '54' '宮崎北斗' '1:27.0' '3'\n",
      "  '6-6' '37.3' '11.3' '6' '422' '-4' '[東]佐藤吉勝' '伊東純一']\n",
      " ['202205010101' '5' '4' '7' 'ピカリエ' '牝' '3' '54' '伊藤工真' '1:27.1' '3/4'\n",
      "  '15-14' '36.6' '4.6' '2' '490' '+8' '[東]金成貴史' 'リトルブルーファーム']\n",
      " ['202205010101' '6' '4' '8' 'リーディングラン' '牝' '3' '54' '吉田豊' '1:27.2' '3/4'\n",
      "  '11-8' '37.2' '148.9' '13' '480' '0' '[東]高橋文雅' '岡村善行']\n",
      " ['202205010101' '7' '7' '14' 'ムーンワード' '牝' '3' '54' '武豊' '1:27.4' '1'\n",
      "  '2-2' '38.2' '14.3' '8' '490' '-2' '[東]杉浦宏昭' '伊東純一']\n",
      " ['202205010101' '8' '6' '12' 'マテンロウボイス' '牝' '3' '53' '亀田温心' '1:27.7'\n",
      "  '1.3/4' '8-9' '37.6' '8.8' '5' '468' '-12' '[東]久保田貴' '寺田千代乃']\n",
      " ['202205010101' '9' '3' '5' 'アポロリップ' '牝' '3' '52' '永野猛蔵' '1:27.7' 'アタマ'\n",
      "  '8-9' '37.6' '18.2' '9' '516' '+2' '[東]岩戸孝樹' 'アポロサラブレッドクラブ']\n",
      " ['202205010101' '10' '8' '16' 'ルージュヴィーヴル' '牝' '3' '54' '戸崎圭太' '1:27.8'\n",
      "  '3/4' '11-11' '37.5' '13.4' '7' '470' '-2' '[東]田中博康' '東京ホースレーシング']\n",
      " ['202205010101' '11' '5' '9' 'キタノステート' '牝' '3' '54' '丸田恭介' '1:28.0' '1'\n",
      "  '13-11' '37.7' '100.2' '12' '416' '-4' '[東]石栗龍彦' '北所直人']\n",
      " ['202205010101' '12' '5' '10' 'アイレスアン' '牝' '3' '54' '石川裕紀' '1:28.7' '4'\n",
      "  '6-7' '38.8' '60.5' '11' '472' '0' '[東]加藤征弘' 'ＴＵＲＦレーシング']\n",
      " ['202205010101' '13' '3' '6' 'グレースミューズ' '牝' '3' '51' '小林脩斗' '1:28.9'\n",
      "  '1.1/4' '10-11' '38.6' '562.2' '15' '430' '-2' '[東]清水英克' '田頭勇貴']\n",
      " ['202205010101' '14' '8' '15' 'チェリー' '牝' '3' '54' '菊沢一樹' '1:29.0' '1/2'\n",
      "  '14-14' '38.5' '325.6' '14' '450' '-4' '[東]佐藤吉勝' '平本敏夫']\n",
      " ['202205010101' '15' '6' '11' 'クリノリュウグウ' '牝' '3' '52' '山田敬士' '1:29.0'\n",
      "  'アタマ' '15-16' '38.4' '582.8' '16' '432' '-4' '[東]蛯名利弘' '栗本博晴']\n",
      " ['202205010101' '16' '7' '13' 'ハロースクロール' '牝' '3' '51' '横山琉人' '1:29.1'\n",
      "  'クビ' '4-5' '39.5' '27.8' '10' '428' '+12' '[東]手塚貴久' '下河辺牧場']]\n",
      "race_info: ['race_id', 'race_name', 'race_date', 'race_place', 'race_round', 'race_course', 'race_direction', 'race_distance', 'race_weather', 'race_course_status', 'race_start_time']\n",
      "race_info: ['202204040101', '障害3歳以上未勝利', '2022年10月15日', '新潟', '1 ', '芝', '芝', ' 外-内', '曇', '良', '09:50']\n"
     ]
    },
    {
     "ename": "FileNotFoundError",
     "evalue": "[Errno 2] No such file or directory: '../csv/hourse/2022/1/202204040101.csv'",
     "output_type": "error",
     "traceback": [
      "\u001b[1;31m---------------------------------------------------------------------------\u001b[0m",
      "\u001b[1;31mFileNotFoundError\u001b[0m                         Traceback (most recent call last)",
      "Cell \u001b[1;32mIn[15], line 1\u001b[0m\n\u001b[1;32m----> 1\u001b[0m main()\n",
      "Cell \u001b[1;32mIn[14], line 17\u001b[0m, in \u001b[0;36mmain\u001b[1;34m()\u001b[0m\n\u001b[0;32m     15\u001b[0m \u001b[39mprint\u001b[39m(\u001b[39m\"\u001b[39m\u001b[39mrace_info:\u001b[39m\u001b[39m\"\u001b[39m,race_info)\n\u001b[0;32m     16\u001b[0m \u001b[39mif\u001b[39;00m i \u001b[39m==\u001b[39m \u001b[39m0\u001b[39m: \u001b[39mcontinue\u001b[39;00m\n\u001b[1;32m---> 17\u001b[0m hourse_info \u001b[39m=\u001b[39m np\u001b[39m.\u001b[39marray(getHourseInfoByRaceId(race_info[\u001b[39m0\u001b[39;49m],year,month))\n\u001b[0;32m     18\u001b[0m \u001b[39mprint\u001b[39m(\u001b[39m\"\u001b[39m\u001b[39mhourse_info\u001b[39m\u001b[39m\"\u001b[39m,hourse_info)\n\u001b[0;32m     19\u001b[0m \u001b[39m# createHourseJson(race_info,hourse_info)\u001b[39;00m\n",
      "Cell \u001b[1;32mIn[2], line 3\u001b[0m, in \u001b[0;36mgetHourseInfoByRaceId\u001b[1;34m(race_id, year, month)\u001b[0m\n\u001b[0;32m      2\u001b[0m \u001b[39mdef\u001b[39;00m \u001b[39mgetHourseInfoByRaceId\u001b[39m(race_id,year,month):\n\u001b[1;32m----> 3\u001b[0m     \u001b[39mwith\u001b[39;00m \u001b[39mopen\u001b[39;49m(\u001b[39m\"\u001b[39;49m\u001b[39m../csv/hourse/\u001b[39;49m\u001b[39m{}\u001b[39;49;00m\u001b[39m/\u001b[39;49m\u001b[39m{}\u001b[39;49;00m\u001b[39m/\u001b[39;49m\u001b[39m{}\u001b[39;49;00m\u001b[39m.csv\u001b[39;49m\u001b[39m\"\u001b[39;49m\u001b[39m.\u001b[39;49mformat(year,month,race_id), \u001b[39m'\u001b[39;49m\u001b[39mr\u001b[39;49m\u001b[39m'\u001b[39;49m,encoding\u001b[39m=\u001b[39;49m\u001b[39m\"\u001b[39;49m\u001b[39mutf8\u001b[39;49m\u001b[39m\"\u001b[39;49m) \u001b[39mas\u001b[39;00m f:\n\u001b[0;32m      4\u001b[0m         csv_reader \u001b[39m=\u001b[39m csv\u001b[39m.\u001b[39mreader(f)\n\u001b[0;32m      5\u001b[0m         response \u001b[39m=\u001b[39m []\n",
      "File \u001b[1;32mc:\\Users\\masaki.watanabe\\Documents\\00個人開発\\ranking_prediction\\venv\\lib\\site-packages\\IPython\\core\\interactiveshell.py:284\u001b[0m, in \u001b[0;36m_modified_open\u001b[1;34m(file, *args, **kwargs)\u001b[0m\n\u001b[0;32m    277\u001b[0m \u001b[39mif\u001b[39;00m file \u001b[39min\u001b[39;00m {\u001b[39m0\u001b[39m, \u001b[39m1\u001b[39m, \u001b[39m2\u001b[39m}:\n\u001b[0;32m    278\u001b[0m     \u001b[39mraise\u001b[39;00m \u001b[39mValueError\u001b[39;00m(\n\u001b[0;32m    279\u001b[0m         \u001b[39mf\u001b[39m\u001b[39m\"\u001b[39m\u001b[39mIPython won\u001b[39m\u001b[39m'\u001b[39m\u001b[39mt let you open fd=\u001b[39m\u001b[39m{\u001b[39;00mfile\u001b[39m}\u001b[39;00m\u001b[39m by default \u001b[39m\u001b[39m\"\u001b[39m\n\u001b[0;32m    280\u001b[0m         \u001b[39m\"\u001b[39m\u001b[39mas it is likely to crash IPython. If you know what you are doing, \u001b[39m\u001b[39m\"\u001b[39m\n\u001b[0;32m    281\u001b[0m         \u001b[39m\"\u001b[39m\u001b[39myou can use builtins\u001b[39m\u001b[39m'\u001b[39m\u001b[39m open.\u001b[39m\u001b[39m\"\u001b[39m\n\u001b[0;32m    282\u001b[0m     )\n\u001b[1;32m--> 284\u001b[0m \u001b[39mreturn\u001b[39;00m io_open(file, \u001b[39m*\u001b[39margs, \u001b[39m*\u001b[39m\u001b[39m*\u001b[39mkwargs)\n",
      "\u001b[1;31mFileNotFoundError\u001b[0m: [Errno 2] No such file or directory: '../csv/hourse/2022/1/202204040101.csv'"
     ]
    }
   ],
   "source": [
    "main()"
   ]
  }
 ],
 "metadata": {
  "kernelspec": {
   "display_name": "venv",
   "language": "python",
   "name": "python3"
  },
  "language_info": {
   "codemirror_mode": {
    "name": "ipython",
    "version": 3
   },
   "file_extension": ".py",
   "mimetype": "text/x-python",
   "name": "python",
   "nbconvert_exporter": "python",
   "pygments_lexer": "ipython3",
   "version": "3.9.12"
  },
  "orig_nbformat": 4
 },
 "nbformat": 4,
 "nbformat_minor": 2
}
