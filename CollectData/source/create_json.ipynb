{
 "cells": [
  {
   "cell_type": "code",
   "execution_count": 4,
   "metadata": {},
   "outputs": [],
   "source": [
    "import os\n",
    "import csv\n",
    "import numpy as np\n",
    "import pandas as pd\n",
    "import json"
   ]
  },
  {
   "cell_type": "code",
   "execution_count": 5,
   "metadata": {},
   "outputs": [],
   "source": [
    "# レースidごとにcsvを取得して返す\n",
    "def getHourseInfoByRaceId(race_id,year,month):\n",
    "    with open(\"../csv/hourse/{}/{}/{}.csv\".format(year,month,race_id), 'r',encoding=\"utf8\") as f:\n",
    "        csv_reader = csv.reader(f)\n",
    "        response = []\n",
    "        for i,row in enumerate(csv_reader):\n",
    "            if i == 0: continue\n",
    "            response.append(row)\n",
    "        return response\n",
    "    "
   ]
  },
  {
   "cell_type": "code",
   "execution_count": 10,
   "metadata": {},
   "outputs": [],
   "source": [
    "# レースidごとに馬の情報を足していく\n",
    "def HourseInfoByRaceId(race_data_list,year,month):\n",
    "    print(race_data_list)\n",
    "    hourse_csv = f\"../csv/hourse/{year}/{month}/{race_data_list[0]}.csv\"\n",
    "    race_result = pd.read_csv(hourse_csv).values.tolist()\n",
    "    print(race_result)\n",
    "    return race_result"
   ]
  },
  {
   "cell_type": "code",
   "execution_count": 11,
   "metadata": {},
   "outputs": [
    {
     "name": "stdout",
     "output_type": "stream",
     "text": [
      "[202205010101, '3歳未勝利', '2022年1月29日', '東京', 1, 'ダート', '左', '1400', '曇', '良', '10:05']\n",
      "[[202205010101, 1, 1, 2, 'モネ', '牝', 3, 54, '津村明秀', '1:26.3', nan, '1-1', 37.2, 7.9, 4, 458, 2, '[東]牧光二', 'ニッシンホールディングス'], [202205010101, 2, 2, 4, 'ランコントル', '牝', 3, 54, 'Ｍ．デム', '1:26.5', '1', '4-4', 37.0, 4.2, 1, 448, 6, '[東]矢野英一', '井山登'], [202205010101, 3, 2, 3, 'ジューンポンポン', '牝', 3, 54, '田辺裕信', '1:26.5', 'クビ', '3-3', 37.1, 5.0, 3, 476, 0, '[東]和田勇介', '吉川潤'], [202205010101, 4, 1, 1, 'エレガントミッシー', '牝', 3, 54, '宮崎北斗', '1:27.0', '3', '6-6', 37.3, 11.3, 6, 422, -4, '[東]佐藤吉勝', '伊東純一'], [202205010101, 5, 4, 7, 'ピカリエ', '牝', 3, 54, '伊藤工真', '1:27.1', '3/4', '15-14', 36.6, 4.6, 2, 490, 8, '[東]金成貴史', 'リトルブルーファーム'], [202205010101, 6, 4, 8, 'リーディングラン', '牝', 3, 54, '吉田豊', '1:27.2', '3/4', '11-8', 37.2, 148.9, 13, 480, 0, '[東]高橋文雅', '岡村善行'], [202205010101, 7, 7, 14, 'ムーンワード', '牝', 3, 54, '武豊', '1:27.4', '1', '2-2', 38.2, 14.3, 8, 490, -2, '[東]杉浦宏昭', '伊東純一'], [202205010101, 8, 6, 12, 'マテンロウボイス', '牝', 3, 53, '亀田温心', '1:27.7', '1.3/4', '8-9', 37.6, 8.8, 5, 468, -12, '[東]久保田貴', '寺田千代乃'], [202205010101, 9, 3, 5, 'アポロリップ', '牝', 3, 52, '永野猛蔵', '1:27.7', 'アタマ', '8-9', 37.6, 18.2, 9, 516, 2, '[東]岩戸孝樹', 'アポロサラブレッドクラブ'], [202205010101, 10, 8, 16, 'ルージュヴィーヴル', '牝', 3, 54, '戸崎圭太', '1:27.8', '3/4', '11-11', 37.5, 13.4, 7, 470, -2, '[東]田中博康', '東京ホースレーシング'], [202205010101, 11, 5, 9, 'キタノステート', '牝', 3, 54, '丸田恭介', '1:28.0', '1', '13-11', 37.7, 100.2, 12, 416, -4, '[東]石栗龍彦', '北所直人'], [202205010101, 12, 5, 10, 'アイレスアン', '牝', 3, 54, '石川裕紀', '1:28.7', '4', '6-7', 38.8, 60.5, 11, 472, 0, '[東]加藤征弘', 'ＴＵＲＦレーシング'], [202205010101, 13, 3, 6, 'グレースミューズ', '牝', 3, 51, '小林脩斗', '1:28.9', '1.1/4', '10-11', 38.6, 562.2, 15, 430, -2, '[東]清水英克', '田頭勇貴'], [202205010101, 14, 8, 15, 'チェリー', '牝', 3, 54, '菊沢一樹', '1:29.0', '1/2', '14-14', 38.5, 325.6, 14, 450, -4, '[東]佐藤吉勝', '平本敏夫'], [202205010101, 15, 6, 11, 'クリノリュウグウ', '牝', 3, 52, '山田敬士', '1:29.0', 'アタマ', '15-16', 38.4, 582.8, 16, 432, -4, '[東]蛯名利弘', '栗本博晴'], [202205010101, 16, 7, 13, 'ハロースクロール', '牝', 3, 51, '横山琉人', '1:29.1', 'クビ', '4-5', 39.5, 27.8, 10, 428, 12, '[東]手塚貴久', '下河辺牧場']]\n"
     ]
    }
   ],
   "source": [
    "# メイン関数\n",
    "\n",
    "year = 2022\n",
    "month = 1\n",
    "\n",
    "race_csv = f\"../csv/race/{year}/{year}-{month}.csv\"\n",
    "\n",
    "# 1ヶ月のレースの一覧を配列に\n",
    "races = pd.read_csv(race_csv).values.tolist()\n",
    "# 1列ごとに馬のデータを追加処理\n",
    "for i in races:\n",
    "    race_result = HourseInfoByRaceId(i,year,month)\n",
    "    break"
   ]
  }
 ],
 "metadata": {
  "kernelspec": {
   "display_name": "venv",
   "language": "python",
   "name": "python3"
  },
  "language_info": {
   "codemirror_mode": {
    "name": "ipython",
    "version": 3
   },
   "file_extension": ".py",
   "mimetype": "text/x-python",
   "name": "python",
   "nbconvert_exporter": "python",
   "pygments_lexer": "ipython3",
   "version": "3.9.12"
  },
  "orig_nbformat": 4
 },
 "nbformat": 4,
 "nbformat_minor": 2
}
